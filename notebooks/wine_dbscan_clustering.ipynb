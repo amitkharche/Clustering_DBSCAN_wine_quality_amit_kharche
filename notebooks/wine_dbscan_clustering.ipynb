
{
 "cells": [
  {
   "cell_type": "markdown",
   "metadata": {},
   "source": [
    "# 🧪 DBSCAN Clustering on Wine Quality Dataset\n",
    "This notebook performs clustering using DBSCAN and visualizes clusters using PCA and t-SNE. It also evaluates the clustering with Silhouette Score and Davies-Bouldin Index."
   ]
  },
  {
   "cell_type": "code",
   "execution_count": null,
   "metadata": {},
   "outputs": [],
   "source": [
    "import pandas as pd\n",
    "import numpy as np\n",
    "import matplotlib.pyplot as plt\n",
    "import seaborn as sns\n",
    "from sklearn.preprocessing import StandardScaler\n",
    "from sklearn.cluster import DBSCAN\n",
    "from sklearn.decomposition import PCA\n",
    "from sklearn.manifold import TSNE\n",
    "from sklearn.metrics import silhouette_score, davies_bouldin_score"
   ]
  },
  {
   "cell_type": "markdown",
   "metadata": {},
   "source": [
    "## 📥 Load and Preprocess Data"
   ]
  },
  {
   "cell_type": "code",
   "execution_count": null,
   "metadata": {},
   "outputs": [],
   "source": [
    "df = pd.read_csv('../data/winequality.csv')\n",
    "X = df.drop('quality', axis=1)\n",
    "scaler = StandardScaler()\n",
    "X_scaled = scaler.fit_transform(X)"
   ]
  },
  {
   "cell_type": "markdown",
   "metadata": {},
   "source": [
    "## 🚀 Apply DBSCAN"
   ]
  },
  {
   "cell_type": "code",
   "execution_count": null,
   "metadata": {},
   "outputs": [],
   "source": [
    "model = DBSCAN(eps=1.0, min_samples=5)\n",
    "labels = model.fit_predict(X_scaled)\n",
    "df['cluster'] = labels\n",
    "df['cluster'].value_counts()"
   ]
  },
  {
   "cell_type": "markdown",
   "metadata": {},
   "source": [
    "## 📊 Visualize Cluster Distribution"
   ]
  },
  {
   "cell_type": "code",
   "execution_count": null,
   "metadata": {},
   "outputs": [],
   "source": [
    "plt.figure(figsize=(8, 4))\n",
    "sns.countplot(x='cluster', data=df)\n",
    "plt.title('Cluster Distribution')\n",
    "plt.show()"
   ]
  },
  {
   "cell_type": "markdown",
   "metadata": {},
   "source": [
    "## 📈 PCA Visualization"
   ]
  },
  {
   "cell_type": "code",
   "execution_count": null,
   "metadata": {},
   "outputs": [],
   "source": [
    "pca = PCA(n_components=2)\n",
    "pca_result = pca.fit_transform(X_scaled)\n",
    "df['pca1'], df['pca2'] = pca_result[:, 0], pca_result[:, 1]\n",
    "sns.scatterplot(x='pca1', y='pca2', hue='cluster', palette='tab10', data=df)\n",
    "plt.title('PCA View of Clusters')\n",
    "plt.show()"
   ]
  },
  {
   "cell_type": "markdown",
   "metadata": {},
   "source": [
    "## 🧬 t-SNE Visualization"
   ]
  },
  {
   "cell_type": "code",
   "execution_count": null,
   "metadata": {},
   "outputs": [],
   "source": [
    "tsne = TSNE(n_components=2, perplexity=30, random_state=42)\n",
    "tsne_result = tsne.fit_transform(X_scaled)\n",
    "df['tsne1'], df['tsne2'] = tsne_result[:, 0], tsne_result[:, 1]\n",
    "sns.scatterplot(x='tsne1', y='tsne2', hue='cluster', palette='tab10', data=df)\n",
    "plt.title('t-SNE View of Clusters')\n",
    "plt.show()"
   ]
  },
  {
   "cell_type": "markdown",
   "metadata": {},
   "source": [
    "## 📏 Clustering Evaluation Metrics"
   ]
  },
  {
   "cell_type": "code",
   "execution_count": null,
   "metadata": {},
   "outputs": [],
   "source": [
    "mask = df['cluster'] != -1\n",
    "silhouette = silhouette_score(X_scaled[mask], df.loc[mask, 'cluster']) if mask.sum() > 1 else -1\n",
    "db_score = davies_bouldin_score(X_scaled[mask], df.loc[mask, 'cluster']) if mask.sum() > 1 else -1\n",
    "print(f"Silhouette Score: {silhouette:.4f}")\n",
    "print(f"Davies-Bouldin Index: {db_score:.4f}")"
   ]
  }
 ],
 "metadata": {
  "kernelspec": {
   "display_name": "Python 3",
   "language": "python",
   "name": "python3"
  },
  "language_info": {
   "name": "python"
  }
 },
 "nbformat": 4,
 "nbformat_minor": 2
}
